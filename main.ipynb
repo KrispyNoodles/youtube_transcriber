{
 "cells": [
  {
   "cell_type": "code",
   "execution_count": null,
   "id": "0d7b39b8",
   "metadata": {},
   "outputs": [],
   "source": [
    "from langgraph.checkpoint.memory import MemorySaver\n",
    "from langgraph.prebuilt import create_react_agent\n",
    "from config import llm\n",
    "from transcribe_tool import youtube_transcriber\n",
    "\n",
    "memory = MemorySaver()\n",
    "\n",
    "tool_box = [youtube_transcriber]\n",
    "\n",
    "agent_executor = create_react_agent(llm, tool_box)"
   ]
  },
  {
   "cell_type": "code",
   "execution_count": null,
   "id": "57fa633a",
   "metadata": {},
   "outputs": [],
   "source": [
    "from langchain.schema import HumanMessage, AIMessage\n",
    "import asyncio\n",
    "\n",
    "async def async_input(prompt: str = \"\") -> str:\n",
    "    loop = asyncio.get_event_loop()\n",
    "    return await loop.run_in_executor(None, input, prompt)\n",
    "\n",
    "# define main chat function\n",
    "async def main():\n",
    "\n",
    "    # conversation history\n",
    "    messages = []\n",
    "\n",
    "    print(\"== YOUTUBE TRANSCRIPT AGENT ==\")\n",
    "    print(\"type exit to end the convo\")\n",
    "    print(\"Aslk me anything about Youtube Vidoes\")\n",
    "\n",
    "    while True:\n",
    "\n",
    "        # get user input\n",
    "        user_input = (await async_input(\"\\nYou: \")).strip()\n",
    "        messages.append(HumanMessage(content=user_input))\n",
    "\n",
    "        # printing to user\n",
    "        print(f\"\\nYou: {user_input}\")\n",
    "\n",
    "        # exiting the chatbot\n",
    "        if user_input.lower() in ['exit']:\n",
    "            print(\"\\nGOODBOYE!\")\n",
    "            break\n",
    "\n",
    "        # continuing if the user_input does not exist\n",
    "        if not user_input:\n",
    "            continue\n",
    "\n",
    "        # invoking the agent asynchronously\n",
    "        response = await agent_executor.ainvoke(    \n",
    "                    {\"messages\": messages},\n",
    "                    config={\"configurable\": {\"thread_id\": \"session-1\"}}\n",
    "                )\n",
    "        \n",
    "        output = response[\"messages\"][-1].content\n",
    "        messages.append(AIMessage(content=output))\n",
    "        \n",
    "        # printing the outpt\n",
    "        print(f\"\\nChatbot: {output}\")\n"
   ]
  },
  {
   "cell_type": "code",
   "execution_count": null,
   "id": "236ed5db",
   "metadata": {},
   "outputs": [],
   "source": [
    "# main\n",
    "await main()"
   ]
  },
  {
   "cell_type": "code",
   "execution_count": null,
   "id": "322baf40",
   "metadata": {},
   "outputs": [],
   "source": []
  }
 ],
 "metadata": {
  "kernelspec": {
   "display_name": "base",
   "language": "python",
   "name": "python3"
  },
  "language_info": {
   "codemirror_mode": {
    "name": "ipython",
    "version": 3
   },
   "file_extension": ".py",
   "mimetype": "text/x-python",
   "name": "python",
   "nbconvert_exporter": "python",
   "pygments_lexer": "ipython3",
   "version": "3.13.2"
  }
 },
 "nbformat": 4,
 "nbformat_minor": 5
}
